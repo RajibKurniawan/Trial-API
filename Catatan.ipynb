{
 "cells": [
  {
   "cell_type": "code",
   "execution_count": 1,
   "id": "c40bb3c2",
   "metadata": {},
   "outputs": [
    {
     "name": "stdout",
     "output_type": "stream",
     "text": [
      "Requirement already satisfied: fastapi[standard] in c:\\users\\kurni\\miniconda3\\envs\\h8_env\\lib\\site-packages (0.115.12)\n",
      "Requirement already satisfied: starlette<0.47.0,>=0.40.0 in c:\\users\\kurni\\miniconda3\\envs\\h8_env\\lib\\site-packages (from fastapi[standard]) (0.46.2)\n",
      "Requirement already satisfied: pydantic!=1.8,!=1.8.1,!=2.0.0,!=2.0.1,!=2.1.0,<3.0.0,>=1.7.4 in c:\\users\\kurni\\miniconda3\\envs\\h8_env\\lib\\site-packages (from fastapi[standard]) (2.11.7)\n",
      "Requirement already satisfied: typing-extensions>=4.8.0 in c:\\users\\kurni\\miniconda3\\envs\\h8_env\\lib\\site-packages (from fastapi[standard]) (4.14.1)\n",
      "Collecting fastapi-cli>=0.0.5 (from fastapi-cli[standard]>=0.0.5; extra == \"standard\"->fastapi[standard])\n",
      "  Downloading fastapi_cli-0.0.10-py3-none-any.whl.metadata (6.3 kB)\n",
      "Requirement already satisfied: httpx>=0.23.0 in c:\\users\\kurni\\miniconda3\\envs\\h8_env\\lib\\site-packages (from fastapi[standard]) (0.28.1)\n",
      "Requirement already satisfied: jinja2>=3.1.5 in c:\\users\\kurni\\miniconda3\\envs\\h8_env\\lib\\site-packages (from fastapi[standard]) (3.1.6)\n",
      "Requirement already satisfied: python-multipart>=0.0.18 in c:\\users\\kurni\\miniconda3\\envs\\h8_env\\lib\\site-packages (from fastapi[standard]) (0.0.20)\n",
      "Collecting email-validator>=2.0.0 (from fastapi[standard])\n",
      "  Downloading email_validator-2.3.0-py3-none-any.whl.metadata (26 kB)\n",
      "Requirement already satisfied: uvicorn>=0.12.0 in c:\\users\\kurni\\miniconda3\\envs\\h8_env\\lib\\site-packages (from uvicorn[standard]>=0.12.0; extra == \"standard\"->fastapi[standard]) (0.34.3)\n",
      "Requirement already satisfied: annotated-types>=0.6.0 in c:\\users\\kurni\\miniconda3\\envs\\h8_env\\lib\\site-packages (from pydantic!=1.8,!=1.8.1,!=2.0.0,!=2.0.1,!=2.1.0,<3.0.0,>=1.7.4->fastapi[standard]) (0.7.0)\n",
      "Requirement already satisfied: pydantic-core==2.33.2 in c:\\users\\kurni\\miniconda3\\envs\\h8_env\\lib\\site-packages (from pydantic!=1.8,!=1.8.1,!=2.0.0,!=2.0.1,!=2.1.0,<3.0.0,>=1.7.4->fastapi[standard]) (2.33.2)\n",
      "Requirement already satisfied: typing-inspection>=0.4.0 in c:\\users\\kurni\\miniconda3\\envs\\h8_env\\lib\\site-packages (from pydantic!=1.8,!=1.8.1,!=2.0.0,!=2.0.1,!=2.1.0,<3.0.0,>=1.7.4->fastapi[standard]) (0.4.1)\n",
      "Requirement already satisfied: anyio<5,>=3.6.2 in c:\\users\\kurni\\miniconda3\\envs\\h8_env\\lib\\site-packages (from starlette<0.47.0,>=0.40.0->fastapi[standard]) (4.10.0)\n",
      "Requirement already satisfied: exceptiongroup>=1.0.2 in c:\\users\\kurni\\miniconda3\\envs\\h8_env\\lib\\site-packages (from anyio<5,>=3.6.2->starlette<0.47.0,>=0.40.0->fastapi[standard]) (1.3.0)\n",
      "Requirement already satisfied: idna>=2.8 in c:\\users\\kurni\\miniconda3\\envs\\h8_env\\lib\\site-packages (from anyio<5,>=3.6.2->starlette<0.47.0,>=0.40.0->fastapi[standard]) (3.10)\n",
      "Requirement already satisfied: sniffio>=1.1 in c:\\users\\kurni\\miniconda3\\envs\\h8_env\\lib\\site-packages (from anyio<5,>=3.6.2->starlette<0.47.0,>=0.40.0->fastapi[standard]) (1.3.1)\n",
      "Requirement already satisfied: dnspython>=2.0.0 in c:\\users\\kurni\\miniconda3\\envs\\h8_env\\lib\\site-packages (from email-validator>=2.0.0->fastapi[standard]) (2.7.0)\n",
      "Collecting typer>=0.15.1 (from fastapi-cli>=0.0.5->fastapi-cli[standard]>=0.0.5; extra == \"standard\"->fastapi[standard])\n",
      "  Downloading typer-0.17.3-py3-none-any.whl.metadata (15 kB)\n",
      "Collecting rich-toolkit>=0.14.8 (from fastapi-cli>=0.0.5->fastapi-cli[standard]>=0.0.5; extra == \"standard\"->fastapi[standard])\n",
      "  Downloading rich_toolkit-0.15.0-py3-none-any.whl.metadata (1.0 kB)\n",
      "Collecting fastapi-cloud-cli>=0.1.1 (from fastapi-cli[standard]>=0.0.5; extra == \"standard\"->fastapi[standard])\n",
      "  Downloading fastapi_cloud_cli-0.1.5-py3-none-any.whl.metadata (3.2 kB)\n",
      "Collecting rignore>=0.5.1 (from fastapi-cloud-cli>=0.1.1->fastapi-cli[standard]>=0.0.5; extra == \"standard\"->fastapi[standard])\n",
      "  Downloading rignore-0.6.4-cp39-cp39-win_amd64.whl.metadata (3.9 kB)\n",
      "Requirement already satisfied: sentry-sdk>=2.20.0 in c:\\users\\kurni\\miniconda3\\envs\\h8_env\\lib\\site-packages (from fastapi-cloud-cli>=0.1.1->fastapi-cli[standard]>=0.0.5; extra == \"standard\"->fastapi[standard]) (2.35.0)\n",
      "Requirement already satisfied: certifi in c:\\users\\kurni\\miniconda3\\envs\\h8_env\\lib\\site-packages (from httpx>=0.23.0->fastapi[standard]) (2025.8.3)\n",
      "Requirement already satisfied: httpcore==1.* in c:\\users\\kurni\\miniconda3\\envs\\h8_env\\lib\\site-packages (from httpx>=0.23.0->fastapi[standard]) (1.0.9)\n",
      "Requirement already satisfied: h11>=0.16 in c:\\users\\kurni\\miniconda3\\envs\\h8_env\\lib\\site-packages (from httpcore==1.*->httpx>=0.23.0->fastapi[standard]) (0.16.0)\n",
      "Requirement already satisfied: MarkupSafe>=2.0 in c:\\users\\kurni\\miniconda3\\envs\\h8_env\\lib\\site-packages (from jinja2>=3.1.5->fastapi[standard]) (3.0.2)\n",
      "Requirement already satisfied: click>=8.1.7 in c:\\users\\kurni\\miniconda3\\envs\\h8_env\\lib\\site-packages (from rich-toolkit>=0.14.8->fastapi-cli>=0.0.5->fastapi-cli[standard]>=0.0.5; extra == \"standard\"->fastapi[standard]) (8.1.8)\n",
      "Requirement already satisfied: rich>=13.7.1 in c:\\users\\kurni\\miniconda3\\envs\\h8_env\\lib\\site-packages (from rich-toolkit>=0.14.8->fastapi-cli>=0.0.5->fastapi-cli[standard]>=0.0.5; extra == \"standard\"->fastapi[standard]) (14.1.0)\n",
      "Requirement already satisfied: colorama in c:\\users\\kurni\\miniconda3\\envs\\h8_env\\lib\\site-packages (from click>=8.1.7->rich-toolkit>=0.14.8->fastapi-cli>=0.0.5->fastapi-cli[standard]>=0.0.5; extra == \"standard\"->fastapi[standard]) (0.4.6)\n",
      "Requirement already satisfied: markdown-it-py>=2.2.0 in c:\\users\\kurni\\miniconda3\\envs\\h8_env\\lib\\site-packages (from rich>=13.7.1->rich-toolkit>=0.14.8->fastapi-cli>=0.0.5->fastapi-cli[standard]>=0.0.5; extra == \"standard\"->fastapi[standard]) (3.0.0)\n",
      "Requirement already satisfied: pygments<3.0.0,>=2.13.0 in c:\\users\\kurni\\miniconda3\\envs\\h8_env\\lib\\site-packages (from rich>=13.7.1->rich-toolkit>=0.14.8->fastapi-cli>=0.0.5->fastapi-cli[standard]>=0.0.5; extra == \"standard\"->fastapi[standard]) (2.19.2)\n",
      "Requirement already satisfied: mdurl~=0.1 in c:\\users\\kurni\\miniconda3\\envs\\h8_env\\lib\\site-packages (from markdown-it-py>=2.2.0->rich>=13.7.1->rich-toolkit>=0.14.8->fastapi-cli>=0.0.5->fastapi-cli[standard]>=0.0.5; extra == \"standard\"->fastapi[standard]) (0.1.2)\n",
      "Requirement already satisfied: urllib3>=1.26.11 in c:\\users\\kurni\\miniconda3\\envs\\h8_env\\lib\\site-packages (from sentry-sdk>=2.20.0->fastapi-cloud-cli>=0.1.1->fastapi-cli[standard]>=0.0.5; extra == \"standard\"->fastapi[standard]) (1.26.20)\n",
      "Collecting shellingham>=1.3.0 (from typer>=0.15.1->fastapi-cli>=0.0.5->fastapi-cli[standard]>=0.0.5; extra == \"standard\"->fastapi[standard])\n",
      "  Downloading shellingham-1.5.4-py2.py3-none-any.whl.metadata (3.5 kB)\n",
      "Requirement already satisfied: httptools>=0.6.3 in c:\\users\\kurni\\miniconda3\\envs\\h8_env\\lib\\site-packages (from uvicorn[standard]>=0.12.0; extra == \"standard\"->fastapi[standard]) (0.6.4)\n",
      "Requirement already satisfied: python-dotenv>=0.13 in c:\\users\\kurni\\miniconda3\\envs\\h8_env\\lib\\site-packages (from uvicorn[standard]>=0.12.0; extra == \"standard\"->fastapi[standard]) (1.1.1)\n",
      "Requirement already satisfied: pyyaml>=5.1 in c:\\users\\kurni\\miniconda3\\envs\\h8_env\\lib\\site-packages (from uvicorn[standard]>=0.12.0; extra == \"standard\"->fastapi[standard]) (6.0.2)\n",
      "Requirement already satisfied: watchfiles>=0.13 in c:\\users\\kurni\\miniconda3\\envs\\h8_env\\lib\\site-packages (from uvicorn[standard]>=0.12.0; extra == \"standard\"->fastapi[standard]) (1.1.0)\n",
      "Requirement already satisfied: websockets>=10.4 in c:\\users\\kurni\\miniconda3\\envs\\h8_env\\lib\\site-packages (from uvicorn[standard]>=0.12.0; extra == \"standard\"->fastapi[standard]) (15.0.1)\n",
      "Downloading email_validator-2.3.0-py3-none-any.whl (35 kB)\n",
      "Downloading fastapi_cli-0.0.10-py3-none-any.whl (10 kB)\n",
      "Downloading fastapi_cloud_cli-0.1.5-py3-none-any.whl (18 kB)\n",
      "Downloading rich_toolkit-0.15.0-py3-none-any.whl (29 kB)\n",
      "Downloading rignore-0.6.4-cp39-cp39-win_amd64.whl (721 kB)\n",
      "   ---------------------------------------- 0.0/721.2 kB ? eta -:--:--\n",
      "   ---------------------------------------- 721.2/721.2 kB 7.3 MB/s eta 0:00:00\n",
      "Downloading typer-0.17.3-py3-none-any.whl (46 kB)\n",
      "Downloading shellingham-1.5.4-py2.py3-none-any.whl (9.8 kB)\n",
      "Installing collected packages: shellingham, rignore, email-validator, typer, rich-toolkit, fastapi-cloud-cli, fastapi-cli\n",
      "\n",
      "  Attempting uninstall: email-validator\n",
      "\n",
      "    Found existing installation: email-validator 1.3.1\n",
      "\n",
      "    Uninstalling email-validator-1.3.1:\n",
      "\n",
      "      Successfully uninstalled email-validator-1.3.1\n",
      "\n",
      "   ----------- ---------------------------- 2/7 [email-validator]\n",
      "   ----------------- ---------------------- 3/7 [typer]\n",
      "   ---------------------- ----------------- 4/7 [rich-toolkit]\n",
      "   ---------------------------- ----------- 5/7 [fastapi-cloud-cli]\n",
      "   ---------------------------------------- 7/7 [fastapi-cli]\n",
      "\n",
      "Successfully installed email-validator-2.3.0 fastapi-cli-0.0.10 fastapi-cloud-cli-0.1.5 rich-toolkit-0.15.0 rignore-0.6.4 shellingham-1.5.4 typer-0.17.3\n",
      "Note: you may need to restart the kernel to use updated packages.\n"
     ]
    },
    {
     "name": "stderr",
     "output_type": "stream",
     "text": [
      "ERROR: pip's dependency resolver does not currently take into account all the packages that are installed. This behaviour is the source of the following dependency conflicts.\n",
      "flask-appbuilder 4.1.3 requires email-validator<2,>=1.0.5, but you have email-validator 2.3.0 which is incompatible.\n"
     ]
    }
   ],
   "source": [
    "pip install \"fastapi[standard]\""
   ]
  }
 ],
 "metadata": {
  "kernelspec": {
   "display_name": "h8_env",
   "language": "python",
   "name": "python3"
  },
  "language_info": {
   "codemirror_mode": {
    "name": "ipython",
    "version": 3
   },
   "file_extension": ".py",
   "mimetype": "text/x-python",
   "name": "python",
   "nbconvert_exporter": "python",
   "pygments_lexer": "ipython3",
   "version": "3.9.23"
  }
 },
 "nbformat": 4,
 "nbformat_minor": 5
}
